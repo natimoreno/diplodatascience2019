{
 "cells": [
  {
   "cell_type": "markdown",
   "metadata": {},
   "source": [
    "<center>\n",
    "<h4>Universidad Nacional de Córdoba - Facultad de Matemática, Astronomía, Física y Computación</h4>\n",
    "<h3>Diplomatura en Ciencia de Datos, Aprendizaje Automático y sus Aplicaciones</h3>\n",
    "</center>"
   ]
  },
  {
   "cell_type": "markdown",
   "metadata": {},
   "source": [
    "\n",
    "\n",
    "## <center>Tema: Predicción de Fallas en Camiones de Minería</center>"
   ]
  },
  {
   "cell_type": "markdown",
   "metadata": {},
   "source": [
    "### <center>Practico 2 - Curaci&oacute;n</center>"
   ]
  },
  {
   "cell_type": "markdown",
   "metadata": {},
   "source": [
    "### Mentor:\n",
    "* Grando, Lucas"
   ]
  },
  {
   "cell_type": "markdown",
   "metadata": {},
   "source": [
    "###  Integrantes:\n",
    "* Fabro, Juan\n",
    "* Moreno, Natalia"
   ]
  },
  {
   "cell_type": "markdown",
   "metadata": {},
   "source": [
    "<h1> Práctico 2 - Curación</h1>\n",
    "<h3> Análisis Exploratorio y Curación de Datos - 2019 </h3>\n",
    "\n",
    "Trabajaremos con un dataset que contiene muestras de aceite extraidas a camiones de minería. Estas muestras son extraíadas a diferentes componentes de los camiones (Motor, Diferencial, etc)\n",
    "\n",
    "Las muestras se envían a un laboratorio que analiza los diferentes componentes químicos de las mismas (Hierro, Cromo, presencia de Agua, horas de utitización, etc), luego de analizarlas emiten un informe indicando el estado de la muesta,  lo que permite a los analistas encontar posibles fallas en los equipos, previmiendo futuras roturas.\n",
    "\n",
    "El dataset cuenta con X features, siendo las más importantes\n",
    "\n",
    "* Componente: Indica a que componente pertenece la muestra\n",
    "* Horas Funcionamiento: Indica la cantidad de horas de funcionamiento del camión (sería como el kilometraje de los camiones)\n",
    "* Horas del Aceite: Representa la cantidad de horas de utilización del aceite (este dato es importante dado que a medida que, a mayor horas de uso del aceite, el mismo comienza a desgastarse)\n",
    "* Resultado: (El laboratorio indica si la muestra de aceite está Bien = 1, Regular=2, Mal=3)\n",
    "* St: Presencia de Hollin en el Aceite\n",
    "* Al:  Presencia de Aluminio en el Aceite\n",
    "* Fe\t Presencia de Hierro en el Aceite\n",
    "* Si  Presencia de Silicio en el Aceite\n",
    "* Na\t Presencia de Sodio en el Aceite\n",
    "* Visco: Viscosidad del aceite\n",
    "\n",
    "NOTA: se modifica le dataset y se incluyen el feature\n",
    "* Fecha de Análisis: Indica cuando fué analizada la muestra por el laboratorio\n",
    "    "
   ]
  },
  {
   "cell_type": "markdown",
   "metadata": {},
   "source": [
    "1. Comenzamos realizando el setup del ambiente de trabajo"
   ]
  },
  {
   "cell_type": "code",
   "execution_count": 104,
   "metadata": {},
   "outputs": [],
   "source": [
    "# Import libraries\n",
    "import matplotlib.pyplot as plt\n",
    "import numpy as np\n",
    "import pandas as pd\n",
    "import seaborn as sb"
   ]
  },
  {
   "cell_type": "code",
   "execution_count": 105,
   "metadata": {},
   "outputs": [],
   "source": [
    "# Cargamos el set de datos \n",
    "#(para ejecutar esta linea, tal cual esta, el archivo csv debe enccontrarse en el mismo directorio que la notebook)\n",
    "\n",
    "# Importamos solo las rows con datos para evitar operaciones extras con los falsos NaN dados por la ultima fila vacia\n",
    "dataset = pd.read_csv('OilDataSetCuracion.csv', nrows=21432)"
   ]
  },
  {
   "cell_type": "code",
   "execution_count": 106,
   "metadata": {},
   "outputs": [
    {
     "data": {
      "text/html": [
       "<div>\n",
       "<style scoped>\n",
       "    .dataframe tbody tr th:only-of-type {\n",
       "        vertical-align: middle;\n",
       "    }\n",
       "\n",
       "    .dataframe tbody tr th {\n",
       "        vertical-align: top;\n",
       "    }\n",
       "\n",
       "    .dataframe thead th {\n",
       "        text-align: right;\n",
       "    }\n",
       "</style>\n",
       "<table border=\"1\" class=\"dataframe\">\n",
       "  <thead>\n",
       "    <tr style=\"text-align: right;\">\n",
       "      <th></th>\n",
       "      <th>Equipo</th>\n",
       "      <th>Componente</th>\n",
       "      <th>Id</th>\n",
       "      <th>Resultado</th>\n",
       "      <th>Horas Funcionamiento</th>\n",
       "      <th>Horas del Aceite</th>\n",
       "      <th>Fecha de Análisis</th>\n",
       "      <th>B</th>\n",
       "      <th>Nit</th>\n",
       "      <th>Oxi</th>\n",
       "      <th>...</th>\n",
       "      <th>Zn</th>\n",
       "      <th>Ag</th>\n",
       "      <th>Ti</th>\n",
       "      <th>V40</th>\n",
       "      <th>V100</th>\n",
       "      <th>TBN</th>\n",
       "      <th>TAN</th>\n",
       "      <th>ISO14</th>\n",
       "      <th>ISO4</th>\n",
       "      <th>ISO6</th>\n",
       "    </tr>\n",
       "  </thead>\n",
       "  <tbody>\n",
       "    <tr>\n",
       "      <th>2054</th>\n",
       "      <td>1368</td>\n",
       "      <td>Masa Derecha</td>\n",
       "      <td>281942</td>\n",
       "      <td>1</td>\n",
       "      <td>48434</td>\n",
       "      <td>407.0</td>\n",
       "      <td>2019-03-27 00:00:00.000</td>\n",
       "      <td>115.0</td>\n",
       "      <td>NaN</td>\n",
       "      <td>NaN</td>\n",
       "      <td>...</td>\n",
       "      <td>21.0</td>\n",
       "      <td>0.0</td>\n",
       "      <td>0.0</td>\n",
       "      <td>NaN</td>\n",
       "      <td>23.6</td>\n",
       "      <td>NaN</td>\n",
       "      <td>NaN</td>\n",
       "      <td>13.0</td>\n",
       "      <td>21.0</td>\n",
       "      <td>18.0</td>\n",
       "    </tr>\n",
       "    <tr>\n",
       "      <th>12132</th>\n",
       "      <td>1407</td>\n",
       "      <td>Motor</td>\n",
       "      <td>201075</td>\n",
       "      <td>1</td>\n",
       "      <td>36796</td>\n",
       "      <td>256.0</td>\n",
       "      <td>2018-05-07 00:00:00.000</td>\n",
       "      <td>109.0</td>\n",
       "      <td>6.0</td>\n",
       "      <td>16.0</td>\n",
       "      <td>...</td>\n",
       "      <td>1243.0</td>\n",
       "      <td>0.0</td>\n",
       "      <td>0.0</td>\n",
       "      <td>NaN</td>\n",
       "      <td>14.4</td>\n",
       "      <td>9.3</td>\n",
       "      <td>NaN</td>\n",
       "      <td>NaN</td>\n",
       "      <td>NaN</td>\n",
       "      <td>NaN</td>\n",
       "    </tr>\n",
       "    <tr>\n",
       "      <th>208</th>\n",
       "      <td>1359</td>\n",
       "      <td>Masa Izquierda</td>\n",
       "      <td>279965</td>\n",
       "      <td>1</td>\n",
       "      <td>49236</td>\n",
       "      <td>296.0</td>\n",
       "      <td>2019-03-21 00:00:00.000</td>\n",
       "      <td>84.3</td>\n",
       "      <td>NaN</td>\n",
       "      <td>NaN</td>\n",
       "      <td>...</td>\n",
       "      <td>79.2</td>\n",
       "      <td>0.2</td>\n",
       "      <td>0.1</td>\n",
       "      <td>22.7</td>\n",
       "      <td>NaN</td>\n",
       "      <td>NaN</td>\n",
       "      <td>NaN</td>\n",
       "      <td>NaN</td>\n",
       "      <td>NaN</td>\n",
       "      <td>NaN</td>\n",
       "    </tr>\n",
       "    <tr>\n",
       "      <th>19728</th>\n",
       "      <td>1424</td>\n",
       "      <td>Masa Izquierda</td>\n",
       "      <td>276168</td>\n",
       "      <td>1</td>\n",
       "      <td>35580</td>\n",
       "      <td>535.0</td>\n",
       "      <td>2019-03-01 00:00:00.000</td>\n",
       "      <td>140.0</td>\n",
       "      <td>NaN</td>\n",
       "      <td>NaN</td>\n",
       "      <td>...</td>\n",
       "      <td>25.0</td>\n",
       "      <td>0.0</td>\n",
       "      <td>0.0</td>\n",
       "      <td>NaN</td>\n",
       "      <td>25.0</td>\n",
       "      <td>NaN</td>\n",
       "      <td>NaN</td>\n",
       "      <td>13.0</td>\n",
       "      <td>22.0</td>\n",
       "      <td>19.0</td>\n",
       "    </tr>\n",
       "    <tr>\n",
       "      <th>18240</th>\n",
       "      <td>1431</td>\n",
       "      <td>Transmisión</td>\n",
       "      <td>260135</td>\n",
       "      <td>1</td>\n",
       "      <td>13595</td>\n",
       "      <td>1180.0</td>\n",
       "      <td>2018-12-27 00:00:00.000</td>\n",
       "      <td>0.0</td>\n",
       "      <td>NaN</td>\n",
       "      <td>NaN</td>\n",
       "      <td>...</td>\n",
       "      <td>1139.0</td>\n",
       "      <td>0.0</td>\n",
       "      <td>0.0</td>\n",
       "      <td>NaN</td>\n",
       "      <td>10.7</td>\n",
       "      <td>NaN</td>\n",
       "      <td>NaN</td>\n",
       "      <td>14.0</td>\n",
       "      <td>22.0</td>\n",
       "      <td>17.0</td>\n",
       "    </tr>\n",
       "  </tbody>\n",
       "</table>\n",
       "<p>5 rows × 44 columns</p>\n",
       "</div>"
      ],
      "text/plain": [
       "       Equipo      Componente      Id  Resultado  Horas Funcionamiento  \\\n",
       "2054     1368    Masa Derecha  281942          1                 48434   \n",
       "12132    1407           Motor  201075          1                 36796   \n",
       "208      1359  Masa Izquierda  279965          1                 49236   \n",
       "19728    1424  Masa Izquierda  276168          1                 35580   \n",
       "18240    1431     Transmisión  260135          1                 13595   \n",
       "\n",
       "       Horas del Aceite        Fecha de Análisis      B  Nit   Oxi  ...  \\\n",
       "2054              407.0  2019-03-27 00:00:00.000  115.0  NaN   NaN  ...   \n",
       "12132             256.0  2018-05-07 00:00:00.000  109.0  6.0  16.0  ...   \n",
       "208               296.0  2019-03-21 00:00:00.000   84.3  NaN   NaN  ...   \n",
       "19728             535.0  2019-03-01 00:00:00.000  140.0  NaN   NaN  ...   \n",
       "18240            1180.0  2018-12-27 00:00:00.000    0.0  NaN   NaN  ...   \n",
       "\n",
       "           Zn   Ag   Ti   V40  V100  TBN  TAN  ISO14  ISO4  ISO6  \n",
       "2054     21.0  0.0  0.0   NaN  23.6  NaN  NaN   13.0  21.0  18.0  \n",
       "12132  1243.0  0.0  0.0   NaN  14.4  9.3  NaN    NaN   NaN   NaN  \n",
       "208      79.2  0.2  0.1  22.7   NaN  NaN  NaN    NaN   NaN   NaN  \n",
       "19728    25.0  0.0  0.0   NaN  25.0  NaN  NaN   13.0  22.0  19.0  \n",
       "18240  1139.0  0.0  0.0   NaN  10.7  NaN  NaN   14.0  22.0  17.0  \n",
       "\n",
       "[5 rows x 44 columns]"
      ]
     },
     "execution_count": 106,
     "metadata": {},
     "output_type": "execute_result"
    }
   ],
   "source": [
    "# Configuramos una semilla para reproducibilidad. Presentamos una muestra de 5 registros\n",
    "np.random.seed(0)\n",
    "dataset.sample(5)"
   ]
  },
  {
   "cell_type": "markdown",
   "metadata": {},
   "source": [
    "2. Vamos a observar el tipo de dato de cada feature del dataset para conocer si detecta correctamente los tipos de datos:"
   ]
  },
  {
   "cell_type": "code",
   "execution_count": 107,
   "metadata": {},
   "outputs": [
    {
     "data": {
      "text/plain": [
       "Equipo                    int64\n",
       "Componente               object\n",
       "Id                        int64\n",
       "Resultado                 int64\n",
       "Horas Funcionamiento      int64\n",
       "Horas del Aceite        float64\n",
       "Fecha de Análisis        object\n",
       "B                       float64\n",
       "Nit                     float64\n",
       "Oxi                     float64\n",
       "Sul                     float64\n",
       "St                      float64\n",
       "V                       float64\n",
       "Al                      float64\n",
       "Cr                      float64\n",
       "Cu                      float64\n",
       "Fe                      float64\n",
       "Pb                      float64\n",
       "Mo                      float64\n",
       "Ni                      float64\n",
       "Sn                      float64\n",
       "Si                      float64\n",
       "K                       float64\n",
       "Na                      float64\n",
       "W                        object\n",
       "F                        object\n",
       "A                        object\n",
       "ISO                      object\n",
       "PQI                     float64\n",
       "Ba                      float64\n",
       "Ca                      float64\n",
       "Mg                      float64\n",
       "Mn                      float64\n",
       "P                       float64\n",
       "Zn                      float64\n",
       "Ag                      float64\n",
       "Ti                      float64\n",
       "V40                     float64\n",
       "V100                    float64\n",
       "TBN                     float64\n",
       "TAN                     float64\n",
       "ISO14                   float64\n",
       "ISO4                    float64\n",
       "ISO6                    float64\n",
       "dtype: object"
      ]
     },
     "execution_count": 107,
     "metadata": {},
     "output_type": "execute_result"
    }
   ],
   "source": [
    "dataset.dtypes"
   ]
  },
  {
   "cell_type": "markdown",
   "metadata": {},
   "source": [
    "Algunas columnas son interpretadas con un tipo de datos diferentes al valor que realmente contienen los datos. \n",
    "Vamos a corregirlos:"
   ]
  },
  {
   "cell_type": "code",
   "execution_count": 108,
   "metadata": {},
   "outputs": [
    {
     "data": {
      "text/plain": [
       "Equipo                          object\n",
       "Componente                      object\n",
       "Id                             float64\n",
       "Resultado                      float64\n",
       "Horas Funcionamiento           float64\n",
       "Horas del Aceite               float64\n",
       "Fecha de Análisis       datetime64[ns]\n",
       "B                              float64\n",
       "Nit                            float64\n",
       "Oxi                            float64\n",
       "Sul                            float64\n",
       "St                             float64\n",
       "V                              float64\n",
       "Al                             float64\n",
       "Cr                             float64\n",
       "Cu                             float64\n",
       "Fe                             float64\n",
       "Pb                             float64\n",
       "Mo                             float64\n",
       "Ni                             float64\n",
       "Sn                             float64\n",
       "Si                             float64\n",
       "K                              float64\n",
       "Na                             float64\n",
       "W                               object\n",
       "F                               object\n",
       "A                               object\n",
       "ISO                             object\n",
       "PQI                            float64\n",
       "Ba                             float64\n",
       "Ca                             float64\n",
       "Mg                             float64\n",
       "Mn                             float64\n",
       "P                              float64\n",
       "Zn                             float64\n",
       "Ag                             float64\n",
       "Ti                             float64\n",
       "V40                            float64\n",
       "V100                           float64\n",
       "TBN                            float64\n",
       "TAN                            float64\n",
       "ISO14                          float64\n",
       "ISO4                           float64\n",
       "ISO6                           float64\n",
       "dtype: object"
      ]
     },
     "execution_count": 108,
     "metadata": {},
     "output_type": "execute_result"
    }
   ],
   "source": [
    "# Se actualiza la columna Fecha de Análisis a tipo fecha, en lugar de objeto\n",
    "dataset = pd.read_csv('OilDataSetCuracion.csv', parse_dates=[\"Fecha de Análisis\"])\n",
    "dataset.dtypes"
   ]
  },
  {
   "cell_type": "code",
   "execution_count": 109,
   "metadata": {},
   "outputs": [],
   "source": [
    "# Se actualizan las columnas Resultado, ISO14, ISO6 e ISO4 a datos de tipo enteros\n",
    "\n",
    "#dataset['Resultado'] = pd.to_numeric(dataset['Resultado'], downcast='integer')\n",
    "dataset['Resultado'] = dataset['Resultado'].astype('int64', errors='ignore')\n",
    "dataset['ISO14'] = dataset['Resultado'].astype('int64', errors='ignore')\n",
    "dataset['ISO6'] = dataset['Resultado'].astype('int64', errors='ignore')\n",
    "dataset['ISO4'] = dataset['Resultado'].astype('int64', errors='ignore')"
   ]
  },
  {
   "cell_type": "code",
   "execution_count": 110,
   "metadata": {},
   "outputs": [
    {
     "data": {
      "text/plain": [
       "Equipo                          object\n",
       "Componente                      object\n",
       "Id                             float64\n",
       "Resultado                      float64\n",
       "Horas Funcionamiento           float64\n",
       "Horas del Aceite               float64\n",
       "Fecha de Análisis       datetime64[ns]\n",
       "B                              float64\n",
       "Nit                            float64\n",
       "Oxi                            float64\n",
       "Sul                            float64\n",
       "St                             float64\n",
       "V                              float64\n",
       "Al                             float64\n",
       "Cr                             float64\n",
       "Cu                             float64\n",
       "Fe                             float64\n",
       "Pb                             float64\n",
       "Mo                             float64\n",
       "Ni                             float64\n",
       "Sn                             float64\n",
       "Si                             float64\n",
       "K                              float64\n",
       "Na                             float64\n",
       "W                               object\n",
       "F                               object\n",
       "A                               object\n",
       "ISO                             object\n",
       "PQI                            float64\n",
       "Ba                             float64\n",
       "Ca                             float64\n",
       "Mg                             float64\n",
       "Mn                             float64\n",
       "P                              float64\n",
       "Zn                             float64\n",
       "Ag                             float64\n",
       "Ti                             float64\n",
       "V40                            float64\n",
       "V100                           float64\n",
       "TBN                            float64\n",
       "TAN                            float64\n",
       "ISO14                          float64\n",
       "ISO4                           float64\n",
       "ISO6                           float64\n",
       "dtype: object"
      ]
     },
     "execution_count": 110,
     "metadata": {},
     "output_type": "execute_result"
    }
   ],
   "source": [
    "dataset.dtypes"
   ]
  },
  {
   "cell_type": "markdown",
   "metadata": {},
   "source": [
    "3. Vamos a verificar entre que fechas hay muestras de aceites:"
   ]
  },
  {
   "cell_type": "code",
   "execution_count": 111,
   "metadata": {},
   "outputs": [
    {
     "data": {
      "text/plain": [
       "Timestamp('2017-10-29 00:00:00')"
      ]
     },
     "execution_count": 111,
     "metadata": {},
     "output_type": "execute_result"
    }
   ],
   "source": [
    "dataset['Fecha de Análisis'].min()"
   ]
  },
  {
   "cell_type": "code",
   "execution_count": 112,
   "metadata": {},
   "outputs": [
    {
     "data": {
      "text/plain": [
       "Timestamp('2019-06-03 00:00:00')"
      ]
     },
     "execution_count": 112,
     "metadata": {},
     "output_type": "execute_result"
    }
   ],
   "source": [
    "dataset['Fecha de Análisis'].max()"
   ]
  },
  {
   "cell_type": "markdown",
   "metadata": {},
   "source": [
    "4. Verificamos si existen registros duplicados en el dataset:"
   ]
  },
  {
   "cell_type": "code",
   "execution_count": 113,
   "metadata": {},
   "outputs": [
    {
     "data": {
      "text/html": [
       "<div>\n",
       "<style scoped>\n",
       "    .dataframe tbody tr th:only-of-type {\n",
       "        vertical-align: middle;\n",
       "    }\n",
       "\n",
       "    .dataframe tbody tr th {\n",
       "        vertical-align: top;\n",
       "    }\n",
       "\n",
       "    .dataframe thead th {\n",
       "        text-align: right;\n",
       "    }\n",
       "</style>\n",
       "<table border=\"1\" class=\"dataframe\">\n",
       "  <thead>\n",
       "    <tr style=\"text-align: right;\">\n",
       "      <th></th>\n",
       "      <th>Equipo</th>\n",
       "      <th>Componente</th>\n",
       "      <th>Id</th>\n",
       "      <th>Resultado</th>\n",
       "      <th>Horas Funcionamiento</th>\n",
       "      <th>Horas del Aceite</th>\n",
       "      <th>Fecha de Análisis</th>\n",
       "      <th>B</th>\n",
       "      <th>Nit</th>\n",
       "      <th>Oxi</th>\n",
       "      <th>...</th>\n",
       "      <th>Zn</th>\n",
       "      <th>Ag</th>\n",
       "      <th>Ti</th>\n",
       "      <th>V40</th>\n",
       "      <th>V100</th>\n",
       "      <th>TBN</th>\n",
       "      <th>TAN</th>\n",
       "      <th>ISO14</th>\n",
       "      <th>ISO4</th>\n",
       "      <th>ISO6</th>\n",
       "    </tr>\n",
       "  </thead>\n",
       "  <tbody>\n",
       "  </tbody>\n",
       "</table>\n",
       "<p>0 rows × 44 columns</p>\n",
       "</div>"
      ],
      "text/plain": [
       "Empty DataFrame\n",
       "Columns: [Equipo, Componente, Id, Resultado, Horas Funcionamiento, Horas del Aceite, Fecha de Análisis, B, Nit, Oxi, Sul, St, V, Al, Cr, Cu, Fe, Pb, Mo, Ni, Sn, Si, K, Na, W, F, A, ISO, PQI, Ba, Ca, Mg, Mn, P, Zn, Ag, Ti, V40, V100, TBN, TAN, ISO14, ISO4, ISO6]\n",
       "Index: []\n",
       "\n",
       "[0 rows x 44 columns]"
      ]
     },
     "execution_count": 113,
     "metadata": {},
     "output_type": "execute_result"
    }
   ],
   "source": [
    "dataset[dataset.duplicated(keep=False)]"
   ]
  },
  {
   "cell_type": "markdown",
   "metadata": {},
   "source": [
    "Aparentemente no hay registros duplicados. Vamos a controlar si tomando el feature Id como &iacute;ndice sigue sin haber registros repetidos."
   ]
  },
  {
   "cell_type": "code",
   "execution_count": 114,
   "metadata": {},
   "outputs": [],
   "source": [
    "dataset_Id = pd.read_csv('OilDataSetCuracion.csv', parse_dates=[\"Fecha de Análisis\"], index_col=['Id'])"
   ]
  },
  {
   "cell_type": "code",
   "execution_count": 115,
   "metadata": {},
   "outputs": [
    {
     "data": {
      "text/plain": [
       "(239, 43)"
      ]
     },
     "execution_count": 115,
     "metadata": {},
     "output_type": "execute_result"
    }
   ],
   "source": [
    "repetidos = dataset_Id[dataset_Id.duplicated(keep=False)]\n",
    "repetidos.shape"
   ]
  },
  {
   "cell_type": "markdown",
   "metadata": {},
   "source": [
    "Para el caso en que tomemos el feature Id como indice del dataset encontramos 239 filas repetidas."
   ]
  },
  {
   "cell_type": "markdown",
   "metadata": {},
   "source": [
    "Vemos algunos de los registros repetidos"
   ]
  },
  {
   "cell_type": "code",
   "execution_count": 116,
   "metadata": {},
   "outputs": [
    {
     "data": {
      "text/html": [
       "<div>\n",
       "<style scoped>\n",
       "    .dataframe tbody tr th:only-of-type {\n",
       "        vertical-align: middle;\n",
       "    }\n",
       "\n",
       "    .dataframe tbody tr th {\n",
       "        vertical-align: top;\n",
       "    }\n",
       "\n",
       "    .dataframe thead th {\n",
       "        text-align: right;\n",
       "    }\n",
       "</style>\n",
       "<table border=\"1\" class=\"dataframe\">\n",
       "  <thead>\n",
       "    <tr style=\"text-align: right;\">\n",
       "      <th></th>\n",
       "      <th>Equipo</th>\n",
       "      <th>Componente</th>\n",
       "      <th>Resultado</th>\n",
       "      <th>Horas Funcionamiento</th>\n",
       "      <th>Horas del Aceite</th>\n",
       "      <th>Fecha de Análisis</th>\n",
       "      <th>B</th>\n",
       "      <th>Nit</th>\n",
       "      <th>Oxi</th>\n",
       "      <th>Sul</th>\n",
       "      <th>...</th>\n",
       "      <th>Zn</th>\n",
       "      <th>Ag</th>\n",
       "      <th>Ti</th>\n",
       "      <th>V40</th>\n",
       "      <th>V100</th>\n",
       "      <th>TBN</th>\n",
       "      <th>TAN</th>\n",
       "      <th>ISO14</th>\n",
       "      <th>ISO4</th>\n",
       "      <th>ISO6</th>\n",
       "    </tr>\n",
       "    <tr>\n",
       "      <th>Id</th>\n",
       "      <th></th>\n",
       "      <th></th>\n",
       "      <th></th>\n",
       "      <th></th>\n",
       "      <th></th>\n",
       "      <th></th>\n",
       "      <th></th>\n",
       "      <th></th>\n",
       "      <th></th>\n",
       "      <th></th>\n",
       "      <th></th>\n",
       "      <th></th>\n",
       "      <th></th>\n",
       "      <th></th>\n",
       "      <th></th>\n",
       "      <th></th>\n",
       "      <th></th>\n",
       "      <th></th>\n",
       "      <th></th>\n",
       "      <th></th>\n",
       "      <th></th>\n",
       "    </tr>\n",
       "  </thead>\n",
       "  <tbody>\n",
       "    <tr>\n",
       "      <th>254898.0</th>\n",
       "      <td>1359</td>\n",
       "      <td>Convertidor</td>\n",
       "      <td>1.0</td>\n",
       "      <td>46874.0</td>\n",
       "      <td>886.0</td>\n",
       "      <td>2018-10-20</td>\n",
       "      <td>1.1</td>\n",
       "      <td>NaN</td>\n",
       "      <td>NaN</td>\n",
       "      <td>NaN</td>\n",
       "      <td>...</td>\n",
       "      <td>1152.0</td>\n",
       "      <td>0.1</td>\n",
       "      <td>0.2</td>\n",
       "      <td>10.73</td>\n",
       "      <td>NaN</td>\n",
       "      <td>NaN</td>\n",
       "      <td>NaN</td>\n",
       "      <td>NaN</td>\n",
       "      <td>NaN</td>\n",
       "      <td>NaN</td>\n",
       "    </tr>\n",
       "    <tr>\n",
       "      <th>254897.0</th>\n",
       "      <td>1359</td>\n",
       "      <td>Convertidor</td>\n",
       "      <td>1.0</td>\n",
       "      <td>46874.0</td>\n",
       "      <td>886.0</td>\n",
       "      <td>2018-10-20</td>\n",
       "      <td>1.1</td>\n",
       "      <td>NaN</td>\n",
       "      <td>NaN</td>\n",
       "      <td>NaN</td>\n",
       "      <td>...</td>\n",
       "      <td>1152.0</td>\n",
       "      <td>0.1</td>\n",
       "      <td>0.2</td>\n",
       "      <td>10.73</td>\n",
       "      <td>NaN</td>\n",
       "      <td>NaN</td>\n",
       "      <td>NaN</td>\n",
       "      <td>NaN</td>\n",
       "      <td>NaN</td>\n",
       "      <td>NaN</td>\n",
       "    </tr>\n",
       "    <tr>\n",
       "      <th>254907.0</th>\n",
       "      <td>1359</td>\n",
       "      <td>Diferencial Trasero</td>\n",
       "      <td>3.0</td>\n",
       "      <td>46874.0</td>\n",
       "      <td>2578.0</td>\n",
       "      <td>2018-10-20</td>\n",
       "      <td>84.3</td>\n",
       "      <td>NaN</td>\n",
       "      <td>NaN</td>\n",
       "      <td>NaN</td>\n",
       "      <td>...</td>\n",
       "      <td>54.2</td>\n",
       "      <td>0.1</td>\n",
       "      <td>0.1</td>\n",
       "      <td>24.02</td>\n",
       "      <td>NaN</td>\n",
       "      <td>NaN</td>\n",
       "      <td>NaN</td>\n",
       "      <td>NaN</td>\n",
       "      <td>NaN</td>\n",
       "      <td>NaN</td>\n",
       "    </tr>\n",
       "    <tr>\n",
       "      <th>254908.0</th>\n",
       "      <td>1359</td>\n",
       "      <td>Diferencial Trasero</td>\n",
       "      <td>3.0</td>\n",
       "      <td>46874.0</td>\n",
       "      <td>2578.0</td>\n",
       "      <td>2018-10-20</td>\n",
       "      <td>84.3</td>\n",
       "      <td>NaN</td>\n",
       "      <td>NaN</td>\n",
       "      <td>NaN</td>\n",
       "      <td>...</td>\n",
       "      <td>54.2</td>\n",
       "      <td>0.1</td>\n",
       "      <td>0.1</td>\n",
       "      <td>24.02</td>\n",
       "      <td>NaN</td>\n",
       "      <td>NaN</td>\n",
       "      <td>NaN</td>\n",
       "      <td>NaN</td>\n",
       "      <td>NaN</td>\n",
       "      <td>NaN</td>\n",
       "    </tr>\n",
       "    <tr>\n",
       "      <th>254912.0</th>\n",
       "      <td>1359</td>\n",
       "      <td>Mando Final TD</td>\n",
       "      <td>3.0</td>\n",
       "      <td>46874.0</td>\n",
       "      <td>2578.0</td>\n",
       "      <td>2018-10-20</td>\n",
       "      <td>80.2</td>\n",
       "      <td>NaN</td>\n",
       "      <td>NaN</td>\n",
       "      <td>NaN</td>\n",
       "      <td>...</td>\n",
       "      <td>42.8</td>\n",
       "      <td>0.1</td>\n",
       "      <td>0.1</td>\n",
       "      <td>24.02</td>\n",
       "      <td>NaN</td>\n",
       "      <td>NaN</td>\n",
       "      <td>NaN</td>\n",
       "      <td>NaN</td>\n",
       "      <td>NaN</td>\n",
       "      <td>NaN</td>\n",
       "    </tr>\n",
       "  </tbody>\n",
       "</table>\n",
       "<p>5 rows × 43 columns</p>\n",
       "</div>"
      ],
      "text/plain": [
       "         Equipo           Componente  Resultado  Horas Funcionamiento  \\\n",
       "Id                                                                      \n",
       "254898.0   1359          Convertidor        1.0               46874.0   \n",
       "254897.0   1359          Convertidor        1.0               46874.0   \n",
       "254907.0   1359  Diferencial Trasero        3.0               46874.0   \n",
       "254908.0   1359  Diferencial Trasero        3.0               46874.0   \n",
       "254912.0   1359       Mando Final TD        3.0               46874.0   \n",
       "\n",
       "          Horas del Aceite Fecha de Análisis     B  Nit  Oxi  Sul  ...  \\\n",
       "Id                                                                 ...   \n",
       "254898.0             886.0        2018-10-20   1.1  NaN  NaN  NaN  ...   \n",
       "254897.0             886.0        2018-10-20   1.1  NaN  NaN  NaN  ...   \n",
       "254907.0            2578.0        2018-10-20  84.3  NaN  NaN  NaN  ...   \n",
       "254908.0            2578.0        2018-10-20  84.3  NaN  NaN  NaN  ...   \n",
       "254912.0            2578.0        2018-10-20  80.2  NaN  NaN  NaN  ...   \n",
       "\n",
       "              Zn   Ag   Ti    V40  V100  TBN  TAN  ISO14  ISO4  ISO6  \n",
       "Id                                                                    \n",
       "254898.0  1152.0  0.1  0.2  10.73   NaN  NaN  NaN    NaN   NaN   NaN  \n",
       "254897.0  1152.0  0.1  0.2  10.73   NaN  NaN  NaN    NaN   NaN   NaN  \n",
       "254907.0    54.2  0.1  0.1  24.02   NaN  NaN  NaN    NaN   NaN   NaN  \n",
       "254908.0    54.2  0.1  0.1  24.02   NaN  NaN  NaN    NaN   NaN   NaN  \n",
       "254912.0    42.8  0.1  0.1  24.02   NaN  NaN  NaN    NaN   NaN   NaN  \n",
       "\n",
       "[5 rows x 43 columns]"
      ]
     },
     "execution_count": 116,
     "metadata": {},
     "output_type": "execute_result"
    }
   ],
   "source": [
    "repetidos.sort_values(by=['Equipo', 'Componente', 'Resultado', 'Horas Funcionamiento']).head()"
   ]
  },
  {
   "cell_type": "markdown",
   "metadata": {},
   "source": [
    "5. Despersonalización de datos"
   ]
  },
  {
   "cell_type": "markdown",
   "metadata": {},
   "source": [
    "Vamos a aplicar dos técnicas, en esta primera instancia aplicamos un hash o md5:"
   ]
  },
  {
   "cell_type": "code",
   "execution_count": 117,
   "metadata": {},
   "outputs": [],
   "source": [
    "from hashlib import md5"
   ]
  },
  {
   "cell_type": "code",
   "execution_count": 118,
   "metadata": {},
   "outputs": [],
   "source": [
    "# Function thar convert val to hash\n",
    "def hashit(val):\n",
    "    if isinstance(val, float): \n",
    "        return str(val)\n",
    "    return md5(val.encode('utf-8')).hexdigest()"
   ]
  },
  {
   "cell_type": "code",
   "execution_count": 119,
   "metadata": {},
   "outputs": [
    {
     "data": {
      "text/html": [
       "<div>\n",
       "<style scoped>\n",
       "    .dataframe tbody tr th:only-of-type {\n",
       "        vertical-align: middle;\n",
       "    }\n",
       "\n",
       "    .dataframe tbody tr th {\n",
       "        vertical-align: top;\n",
       "    }\n",
       "\n",
       "    .dataframe thead th {\n",
       "        text-align: right;\n",
       "    }\n",
       "</style>\n",
       "<table border=\"1\" class=\"dataframe\">\n",
       "  <thead>\n",
       "    <tr style=\"text-align: right;\">\n",
       "      <th></th>\n",
       "      <th>Equipo</th>\n",
       "      <th>Componente</th>\n",
       "      <th>Id</th>\n",
       "      <th>Resultado</th>\n",
       "      <th>Horas Funcionamiento</th>\n",
       "      <th>Horas del Aceite</th>\n",
       "      <th>Fecha de Análisis</th>\n",
       "      <th>B</th>\n",
       "      <th>Nit</th>\n",
       "      <th>Oxi</th>\n",
       "      <th>...</th>\n",
       "      <th>Ag</th>\n",
       "      <th>Ti</th>\n",
       "      <th>V40</th>\n",
       "      <th>V100</th>\n",
       "      <th>TBN</th>\n",
       "      <th>TAN</th>\n",
       "      <th>ISO14</th>\n",
       "      <th>ISO4</th>\n",
       "      <th>ISO6</th>\n",
       "      <th>HId</th>\n",
       "    </tr>\n",
       "  </thead>\n",
       "  <tbody>\n",
       "    <tr>\n",
       "      <th>12582</th>\n",
       "      <td>1412</td>\n",
       "      <td>Masa Izquierda</td>\n",
       "      <td>212643.0</td>\n",
       "      <td>1.0</td>\n",
       "      <td>34610.0</td>\n",
       "      <td>589.0</td>\n",
       "      <td>2018-06-21</td>\n",
       "      <td>110.0</td>\n",
       "      <td>NaN</td>\n",
       "      <td>NaN</td>\n",
       "      <td>...</td>\n",
       "      <td>0.0</td>\n",
       "      <td>0.0</td>\n",
       "      <td>NaN</td>\n",
       "      <td>24.5</td>\n",
       "      <td>NaN</td>\n",
       "      <td>NaN</td>\n",
       "      <td>1.0</td>\n",
       "      <td>1.0</td>\n",
       "      <td>1.0</td>\n",
       "      <td>212643.0</td>\n",
       "    </tr>\n",
       "    <tr>\n",
       "      <th>20830</th>\n",
       "      <td>1429</td>\n",
       "      <td>Sist. Hidráulico</td>\n",
       "      <td>188661.0</td>\n",
       "      <td>1.0</td>\n",
       "      <td>27143.0</td>\n",
       "      <td>1597.0</td>\n",
       "      <td>2018-03-18</td>\n",
       "      <td>1.0</td>\n",
       "      <td>NaN</td>\n",
       "      <td>NaN</td>\n",
       "      <td>...</td>\n",
       "      <td>0.0</td>\n",
       "      <td>0.0</td>\n",
       "      <td>NaN</td>\n",
       "      <td>6.4</td>\n",
       "      <td>NaN</td>\n",
       "      <td>NaN</td>\n",
       "      <td>1.0</td>\n",
       "      <td>1.0</td>\n",
       "      <td>1.0</td>\n",
       "      <td>188661.0</td>\n",
       "    </tr>\n",
       "    <tr>\n",
       "      <th>3409</th>\n",
       "      <td>1375</td>\n",
       "      <td>Diferencial Trasero</td>\n",
       "      <td>292421.0</td>\n",
       "      <td>1.0</td>\n",
       "      <td>50528.0</td>\n",
       "      <td>985.0</td>\n",
       "      <td>2019-05-03</td>\n",
       "      <td>86.0</td>\n",
       "      <td>NaN</td>\n",
       "      <td>16.0</td>\n",
       "      <td>...</td>\n",
       "      <td>0.1</td>\n",
       "      <td>0.1</td>\n",
       "      <td>23.35</td>\n",
       "      <td>NaN</td>\n",
       "      <td>NaN</td>\n",
       "      <td>1.3</td>\n",
       "      <td>1.0</td>\n",
       "      <td>1.0</td>\n",
       "      <td>1.0</td>\n",
       "      <td>292421.0</td>\n",
       "    </tr>\n",
       "    <tr>\n",
       "      <th>7752</th>\n",
       "      <td>1389</td>\n",
       "      <td>Motor</td>\n",
       "      <td>258601.0</td>\n",
       "      <td>1.0</td>\n",
       "      <td>46516.0</td>\n",
       "      <td>295.0</td>\n",
       "      <td>2018-12-20</td>\n",
       "      <td>45.0</td>\n",
       "      <td>8.0</td>\n",
       "      <td>18.0</td>\n",
       "      <td>...</td>\n",
       "      <td>0.0</td>\n",
       "      <td>0.0</td>\n",
       "      <td>NaN</td>\n",
       "      <td>15.5</td>\n",
       "      <td>9.9</td>\n",
       "      <td>NaN</td>\n",
       "      <td>1.0</td>\n",
       "      <td>1.0</td>\n",
       "      <td>1.0</td>\n",
       "      <td>258601.0</td>\n",
       "    </tr>\n",
       "    <tr>\n",
       "      <th>7538</th>\n",
       "      <td>1390</td>\n",
       "      <td>Diferencial Trasero</td>\n",
       "      <td>284794.0</td>\n",
       "      <td>1.0</td>\n",
       "      <td>49787.0</td>\n",
       "      <td>320.0</td>\n",
       "      <td>2019-04-07</td>\n",
       "      <td>93.0</td>\n",
       "      <td>NaN</td>\n",
       "      <td>NaN</td>\n",
       "      <td>...</td>\n",
       "      <td>0.0</td>\n",
       "      <td>0.0</td>\n",
       "      <td>NaN</td>\n",
       "      <td>24.0</td>\n",
       "      <td>NaN</td>\n",
       "      <td>NaN</td>\n",
       "      <td>1.0</td>\n",
       "      <td>1.0</td>\n",
       "      <td>1.0</td>\n",
       "      <td>284794.0</td>\n",
       "    </tr>\n",
       "  </tbody>\n",
       "</table>\n",
       "<p>5 rows × 45 columns</p>\n",
       "</div>"
      ],
      "text/plain": [
       "      Equipo           Componente        Id  Resultado  Horas Funcionamiento  \\\n",
       "12582   1412       Masa Izquierda  212643.0        1.0               34610.0   \n",
       "20830   1429     Sist. Hidráulico  188661.0        1.0               27143.0   \n",
       "3409    1375  Diferencial Trasero  292421.0        1.0               50528.0   \n",
       "7752    1389                Motor  258601.0        1.0               46516.0   \n",
       "7538    1390  Diferencial Trasero  284794.0        1.0               49787.0   \n",
       "\n",
       "       Horas del Aceite Fecha de Análisis      B  Nit   Oxi  ...   Ag   Ti  \\\n",
       "12582             589.0        2018-06-21  110.0  NaN   NaN  ...  0.0  0.0   \n",
       "20830            1597.0        2018-03-18    1.0  NaN   NaN  ...  0.0  0.0   \n",
       "3409              985.0        2019-05-03   86.0  NaN  16.0  ...  0.1  0.1   \n",
       "7752              295.0        2018-12-20   45.0  8.0  18.0  ...  0.0  0.0   \n",
       "7538              320.0        2019-04-07   93.0  NaN   NaN  ...  0.0  0.0   \n",
       "\n",
       "         V40  V100  TBN  TAN  ISO14  ISO4  ISO6       HId  \n",
       "12582    NaN  24.5  NaN  NaN    1.0   1.0   1.0  212643.0  \n",
       "20830    NaN   6.4  NaN  NaN    1.0   1.0   1.0  188661.0  \n",
       "3409   23.35   NaN  NaN  1.3    1.0   1.0   1.0  292421.0  \n",
       "7752     NaN  15.5  9.9  NaN    1.0   1.0   1.0  258601.0  \n",
       "7538     NaN  24.0  NaN  NaN    1.0   1.0   1.0  284794.0  \n",
       "\n",
       "[5 rows x 45 columns]"
      ]
     },
     "execution_count": 119,
     "metadata": {},
     "output_type": "execute_result"
    }
   ],
   "source": [
    "# Agregamos una nueva columna con el Id convertido a md5, de manera de conservar Id para el próximo calculo\n",
    "dataset['HId'] = dataset['Id'].apply(hashit)\n",
    "dataset.sample(5)"
   ]
  },
  {
   "cell_type": "markdown",
   "metadata": {},
   "source": [
    "Tambien podriamos usar algun tipo de codificacion como lo es base64"
   ]
  },
  {
   "cell_type": "code",
   "execution_count": 120,
   "metadata": {},
   "outputs": [],
   "source": [
    "import base64"
   ]
  },
  {
   "cell_type": "code",
   "execution_count": 121,
   "metadata": {},
   "outputs": [],
   "source": [
    "# Funcion codificadora base64 to ascii\n",
    "def encondings(val):\n",
    "    bs64 = base64.b64encode(bytes(str(val).encode('utf-8')))\n",
    "    return bs64.decode('ascii')"
   ]
  },
  {
   "cell_type": "code",
   "execution_count": 122,
   "metadata": {},
   "outputs": [
    {
     "data": {
      "text/html": [
       "<div>\n",
       "<style scoped>\n",
       "    .dataframe tbody tr th:only-of-type {\n",
       "        vertical-align: middle;\n",
       "    }\n",
       "\n",
       "    .dataframe tbody tr th {\n",
       "        vertical-align: top;\n",
       "    }\n",
       "\n",
       "    .dataframe thead th {\n",
       "        text-align: right;\n",
       "    }\n",
       "</style>\n",
       "<table border=\"1\" class=\"dataframe\">\n",
       "  <thead>\n",
       "    <tr style=\"text-align: right;\">\n",
       "      <th></th>\n",
       "      <th>Equipo</th>\n",
       "      <th>Componente</th>\n",
       "      <th>Id</th>\n",
       "      <th>Resultado</th>\n",
       "      <th>Horas Funcionamiento</th>\n",
       "      <th>Horas del Aceite</th>\n",
       "      <th>Fecha de Análisis</th>\n",
       "      <th>B</th>\n",
       "      <th>Nit</th>\n",
       "      <th>Oxi</th>\n",
       "      <th>...</th>\n",
       "      <th>Ti</th>\n",
       "      <th>V40</th>\n",
       "      <th>V100</th>\n",
       "      <th>TBN</th>\n",
       "      <th>TAN</th>\n",
       "      <th>ISO14</th>\n",
       "      <th>ISO4</th>\n",
       "      <th>ISO6</th>\n",
       "      <th>HId</th>\n",
       "      <th>EId</th>\n",
       "    </tr>\n",
       "  </thead>\n",
       "  <tbody>\n",
       "    <tr>\n",
       "      <th>18933</th>\n",
       "      <td>1834</td>\n",
       "      <td>Convertidor</td>\n",
       "      <td>193636.0</td>\n",
       "      <td>2.0</td>\n",
       "      <td>12195.0</td>\n",
       "      <td>240.0</td>\n",
       "      <td>2018-04-08</td>\n",
       "      <td>0.0</td>\n",
       "      <td>NaN</td>\n",
       "      <td>NaN</td>\n",
       "      <td>...</td>\n",
       "      <td>0.0</td>\n",
       "      <td>NaN</td>\n",
       "      <td>11.2</td>\n",
       "      <td>NaN</td>\n",
       "      <td>NaN</td>\n",
       "      <td>2.0</td>\n",
       "      <td>2.0</td>\n",
       "      <td>2.0</td>\n",
       "      <td>193636.0</td>\n",
       "      <td>MTkzNjM2LjA=</td>\n",
       "    </tr>\n",
       "    <tr>\n",
       "      <th>13816</th>\n",
       "      <td>1419</td>\n",
       "      <td>Masa Izquierda</td>\n",
       "      <td>286732.0</td>\n",
       "      <td>1.0</td>\n",
       "      <td>36722.0</td>\n",
       "      <td>691.0</td>\n",
       "      <td>2019-04-13</td>\n",
       "      <td>83.3</td>\n",
       "      <td>NaN</td>\n",
       "      <td>NaN</td>\n",
       "      <td>...</td>\n",
       "      <td>0.6</td>\n",
       "      <td>22.91</td>\n",
       "      <td>NaN</td>\n",
       "      <td>NaN</td>\n",
       "      <td>NaN</td>\n",
       "      <td>1.0</td>\n",
       "      <td>1.0</td>\n",
       "      <td>1.0</td>\n",
       "      <td>286732.0</td>\n",
       "      <td>Mjg2NzMyLjA=</td>\n",
       "    </tr>\n",
       "    <tr>\n",
       "      <th>546</th>\n",
       "      <td>1361</td>\n",
       "      <td>Masa Derecha</td>\n",
       "      <td>279976.0</td>\n",
       "      <td>3.0</td>\n",
       "      <td>50022.0</td>\n",
       "      <td>326.0</td>\n",
       "      <td>2019-03-21</td>\n",
       "      <td>86.9</td>\n",
       "      <td>NaN</td>\n",
       "      <td>NaN</td>\n",
       "      <td>...</td>\n",
       "      <td>0.1</td>\n",
       "      <td>22.58</td>\n",
       "      <td>NaN</td>\n",
       "      <td>NaN</td>\n",
       "      <td>NaN</td>\n",
       "      <td>3.0</td>\n",
       "      <td>3.0</td>\n",
       "      <td>3.0</td>\n",
       "      <td>279976.0</td>\n",
       "      <td>Mjc5OTc2LjA=</td>\n",
       "    </tr>\n",
       "    <tr>\n",
       "      <th>18803</th>\n",
       "      <td>1421</td>\n",
       "      <td>Diferencial Trasero</td>\n",
       "      <td>266588.0</td>\n",
       "      <td>1.0</td>\n",
       "      <td>33728.0</td>\n",
       "      <td>962.0</td>\n",
       "      <td>2019-01-21</td>\n",
       "      <td>79.8</td>\n",
       "      <td>NaN</td>\n",
       "      <td>NaN</td>\n",
       "      <td>...</td>\n",
       "      <td>0.1</td>\n",
       "      <td>23.95</td>\n",
       "      <td>NaN</td>\n",
       "      <td>NaN</td>\n",
       "      <td>NaN</td>\n",
       "      <td>1.0</td>\n",
       "      <td>1.0</td>\n",
       "      <td>1.0</td>\n",
       "      <td>266588.0</td>\n",
       "      <td>MjY2NTg4LjA=</td>\n",
       "    </tr>\n",
       "    <tr>\n",
       "      <th>3300</th>\n",
       "      <td>1376</td>\n",
       "      <td>Masa Izquierda</td>\n",
       "      <td>209452.0</td>\n",
       "      <td>1.0</td>\n",
       "      <td>43838.0</td>\n",
       "      <td>NaN</td>\n",
       "      <td>2018-05-29</td>\n",
       "      <td>104.0</td>\n",
       "      <td>NaN</td>\n",
       "      <td>NaN</td>\n",
       "      <td>...</td>\n",
       "      <td>0.0</td>\n",
       "      <td>NaN</td>\n",
       "      <td>24.6</td>\n",
       "      <td>NaN</td>\n",
       "      <td>NaN</td>\n",
       "      <td>1.0</td>\n",
       "      <td>1.0</td>\n",
       "      <td>1.0</td>\n",
       "      <td>209452.0</td>\n",
       "      <td>MjA5NDUyLjA=</td>\n",
       "    </tr>\n",
       "  </tbody>\n",
       "</table>\n",
       "<p>5 rows × 46 columns</p>\n",
       "</div>"
      ],
      "text/plain": [
       "      Equipo           Componente        Id  Resultado  Horas Funcionamiento  \\\n",
       "18933   1834          Convertidor  193636.0        2.0               12195.0   \n",
       "13816   1419       Masa Izquierda  286732.0        1.0               36722.0   \n",
       "546     1361         Masa Derecha  279976.0        3.0               50022.0   \n",
       "18803   1421  Diferencial Trasero  266588.0        1.0               33728.0   \n",
       "3300    1376       Masa Izquierda  209452.0        1.0               43838.0   \n",
       "\n",
       "       Horas del Aceite Fecha de Análisis      B  Nit  Oxi  ...   Ti    V40  \\\n",
       "18933             240.0        2018-04-08    0.0  NaN  NaN  ...  0.0    NaN   \n",
       "13816             691.0        2019-04-13   83.3  NaN  NaN  ...  0.6  22.91   \n",
       "546               326.0        2019-03-21   86.9  NaN  NaN  ...  0.1  22.58   \n",
       "18803             962.0        2019-01-21   79.8  NaN  NaN  ...  0.1  23.95   \n",
       "3300                NaN        2018-05-29  104.0  NaN  NaN  ...  0.0    NaN   \n",
       "\n",
       "       V100  TBN  TAN  ISO14  ISO4  ISO6       HId           EId  \n",
       "18933  11.2  NaN  NaN    2.0   2.0   2.0  193636.0  MTkzNjM2LjA=  \n",
       "13816   NaN  NaN  NaN    1.0   1.0   1.0  286732.0  Mjg2NzMyLjA=  \n",
       "546     NaN  NaN  NaN    3.0   3.0   3.0  279976.0  Mjc5OTc2LjA=  \n",
       "18803   NaN  NaN  NaN    1.0   1.0   1.0  266588.0  MjY2NTg4LjA=  \n",
       "3300   24.6  NaN  NaN    1.0   1.0   1.0  209452.0  MjA5NDUyLjA=  \n",
       "\n",
       "[5 rows x 46 columns]"
      ]
     },
     "execution_count": 122,
     "metadata": {},
     "output_type": "execute_result"
    }
   ],
   "source": [
    "# Agregamos una columna con el Id en base64\n",
    "dataset['EId'] = dataset['Id'].apply(encondings)\n",
    "dataset.sample(5)"
   ]
  },
  {
   "cell_type": "markdown",
   "metadata": {},
   "source": [
    "6. Visualizamos las etiquetas de las features para reemplazar los caracteres no ascii:"
   ]
  },
  {
   "cell_type": "code",
   "execution_count": 123,
   "metadata": {},
   "outputs": [
    {
     "data": {
      "text/plain": [
       "Index(['Equipo', 'Componente', 'Id', 'Resultado', 'Horas Funcionamiento',\n",
       "       'Horas del Aceite', 'Fecha de Análisis', 'B', 'Nit', 'Oxi', 'Sul', 'St',\n",
       "       'V', 'Al', 'Cr', 'Cu', 'Fe', 'Pb', 'Mo', 'Ni', 'Sn', 'Si', 'K', 'Na',\n",
       "       'W', 'F', 'A', 'ISO', 'PQI', 'Ba', 'Ca', 'Mg', 'Mn', 'P', 'Zn', 'Ag',\n",
       "       'Ti', 'V40', 'V100', 'TBN', 'TAN', 'ISO14', 'ISO4', 'ISO6', 'HId',\n",
       "       'EId'],\n",
       "      dtype='object')"
      ]
     },
     "execution_count": 123,
     "metadata": {},
     "output_type": "execute_result"
    }
   ],
   "source": [
    "dataset.columns"
   ]
  },
  {
   "cell_type": "markdown",
   "metadata": {},
   "source": [
    "Observamos que los nombres de las columnas tienen espacios, vamos a eliminarlos para una mejor manipulación de los datos:"
   ]
  },
  {
   "cell_type": "code",
   "execution_count": 124,
   "metadata": {},
   "outputs": [
    {
     "data": {
      "text/html": [
       "<div>\n",
       "<style scoped>\n",
       "    .dataframe tbody tr th:only-of-type {\n",
       "        vertical-align: middle;\n",
       "    }\n",
       "\n",
       "    .dataframe tbody tr th {\n",
       "        vertical-align: top;\n",
       "    }\n",
       "\n",
       "    .dataframe thead th {\n",
       "        text-align: right;\n",
       "    }\n",
       "</style>\n",
       "<table border=\"1\" class=\"dataframe\">\n",
       "  <thead>\n",
       "    <tr style=\"text-align: right;\">\n",
       "      <th></th>\n",
       "      <th>Equipo</th>\n",
       "      <th>Componente</th>\n",
       "      <th>Id</th>\n",
       "      <th>Resultado</th>\n",
       "      <th>Horas_Funcionamiento</th>\n",
       "      <th>Horas_del_Aceite</th>\n",
       "      <th>Fecha_de_Análisis</th>\n",
       "      <th>B</th>\n",
       "      <th>Nit</th>\n",
       "      <th>Oxi</th>\n",
       "      <th>...</th>\n",
       "      <th>Ti</th>\n",
       "      <th>V40</th>\n",
       "      <th>V100</th>\n",
       "      <th>TBN</th>\n",
       "      <th>TAN</th>\n",
       "      <th>ISO14</th>\n",
       "      <th>ISO4</th>\n",
       "      <th>ISO6</th>\n",
       "      <th>HId</th>\n",
       "      <th>EId</th>\n",
       "    </tr>\n",
       "  </thead>\n",
       "  <tbody>\n",
       "    <tr>\n",
       "      <th>0</th>\n",
       "      <td>1355</td>\n",
       "      <td>Mando Final TD</td>\n",
       "      <td>273615.0</td>\n",
       "      <td>1.0</td>\n",
       "      <td>21950.0</td>\n",
       "      <td>409.0</td>\n",
       "      <td>2019-02-20</td>\n",
       "      <td>96.0</td>\n",
       "      <td>4.0</td>\n",
       "      <td>8.0</td>\n",
       "      <td>...</td>\n",
       "      <td>0.0</td>\n",
       "      <td>NaN</td>\n",
       "      <td>24.5</td>\n",
       "      <td>NaN</td>\n",
       "      <td>NaN</td>\n",
       "      <td>1.0</td>\n",
       "      <td>1.0</td>\n",
       "      <td>1.0</td>\n",
       "      <td>273615.0</td>\n",
       "      <td>MjczNjE1LjA=</td>\n",
       "    </tr>\n",
       "    <tr>\n",
       "      <th>1</th>\n",
       "      <td>1355</td>\n",
       "      <td>Mando Final TI</td>\n",
       "      <td>294763.0</td>\n",
       "      <td>3.0</td>\n",
       "      <td>23153.0</td>\n",
       "      <td>424.0</td>\n",
       "      <td>2019-05-12</td>\n",
       "      <td>84.0</td>\n",
       "      <td>3.0</td>\n",
       "      <td>7.0</td>\n",
       "      <td>...</td>\n",
       "      <td>0.0</td>\n",
       "      <td>NaN</td>\n",
       "      <td>24.2</td>\n",
       "      <td>NaN</td>\n",
       "      <td>NaN</td>\n",
       "      <td>3.0</td>\n",
       "      <td>3.0</td>\n",
       "      <td>3.0</td>\n",
       "      <td>294763.0</td>\n",
       "      <td>Mjk0NzYzLjA=</td>\n",
       "    </tr>\n",
       "    <tr>\n",
       "      <th>2</th>\n",
       "      <td>1355</td>\n",
       "      <td>Masa Derecha</td>\n",
       "      <td>278700.0</td>\n",
       "      <td>3.0</td>\n",
       "      <td>22349.0</td>\n",
       "      <td>399.0</td>\n",
       "      <td>2019-03-14</td>\n",
       "      <td>114.0</td>\n",
       "      <td>NaN</td>\n",
       "      <td>NaN</td>\n",
       "      <td>...</td>\n",
       "      <td>1.0</td>\n",
       "      <td>NaN</td>\n",
       "      <td>25.0</td>\n",
       "      <td>NaN</td>\n",
       "      <td>NaN</td>\n",
       "      <td>3.0</td>\n",
       "      <td>3.0</td>\n",
       "      <td>3.0</td>\n",
       "      <td>278700.0</td>\n",
       "      <td>Mjc4NzAwLjA=</td>\n",
       "    </tr>\n",
       "    <tr>\n",
       "      <th>3</th>\n",
       "      <td>1355</td>\n",
       "      <td>Motor</td>\n",
       "      <td>273586.0</td>\n",
       "      <td>3.0</td>\n",
       "      <td>21950.0</td>\n",
       "      <td>409.0</td>\n",
       "      <td>2019-02-20</td>\n",
       "      <td>51.0</td>\n",
       "      <td>9.0</td>\n",
       "      <td>22.0</td>\n",
       "      <td>...</td>\n",
       "      <td>0.0</td>\n",
       "      <td>NaN</td>\n",
       "      <td>13.7</td>\n",
       "      <td>9.1</td>\n",
       "      <td>NaN</td>\n",
       "      <td>3.0</td>\n",
       "      <td>3.0</td>\n",
       "      <td>3.0</td>\n",
       "      <td>273586.0</td>\n",
       "      <td>MjczNTg2LjA=</td>\n",
       "    </tr>\n",
       "    <tr>\n",
       "      <th>4</th>\n",
       "      <td>1355</td>\n",
       "      <td>Sist de Dirección</td>\n",
       "      <td>278549.0</td>\n",
       "      <td>1.0</td>\n",
       "      <td>22349.0</td>\n",
       "      <td>808.0</td>\n",
       "      <td>2019-03-14</td>\n",
       "      <td>2.0</td>\n",
       "      <td>NaN</td>\n",
       "      <td>NaN</td>\n",
       "      <td>...</td>\n",
       "      <td>0.0</td>\n",
       "      <td>NaN</td>\n",
       "      <td>10.8</td>\n",
       "      <td>NaN</td>\n",
       "      <td>NaN</td>\n",
       "      <td>1.0</td>\n",
       "      <td>1.0</td>\n",
       "      <td>1.0</td>\n",
       "      <td>278549.0</td>\n",
       "      <td>Mjc4NTQ5LjA=</td>\n",
       "    </tr>\n",
       "  </tbody>\n",
       "</table>\n",
       "<p>5 rows × 46 columns</p>\n",
       "</div>"
      ],
      "text/plain": [
       "  Equipo         Componente        Id  Resultado  Horas_Funcionamiento  \\\n",
       "0   1355     Mando Final TD  273615.0        1.0               21950.0   \n",
       "1   1355     Mando Final TI  294763.0        3.0               23153.0   \n",
       "2   1355       Masa Derecha  278700.0        3.0               22349.0   \n",
       "3   1355              Motor  273586.0        3.0               21950.0   \n",
       "4   1355  Sist de Dirección  278549.0        1.0               22349.0   \n",
       "\n",
       "   Horas_del_Aceite Fecha_de_Análisis      B  Nit   Oxi  ...   Ti  V40  V100  \\\n",
       "0             409.0        2019-02-20   96.0  4.0   8.0  ...  0.0  NaN  24.5   \n",
       "1             424.0        2019-05-12   84.0  3.0   7.0  ...  0.0  NaN  24.2   \n",
       "2             399.0        2019-03-14  114.0  NaN   NaN  ...  1.0  NaN  25.0   \n",
       "3             409.0        2019-02-20   51.0  9.0  22.0  ...  0.0  NaN  13.7   \n",
       "4             808.0        2019-03-14    2.0  NaN   NaN  ...  0.0  NaN  10.8   \n",
       "\n",
       "   TBN  TAN  ISO14  ISO4  ISO6       HId           EId  \n",
       "0  NaN  NaN    1.0   1.0   1.0  273615.0  MjczNjE1LjA=  \n",
       "1  NaN  NaN    3.0   3.0   3.0  294763.0  Mjk0NzYzLjA=  \n",
       "2  NaN  NaN    3.0   3.0   3.0  278700.0  Mjc4NzAwLjA=  \n",
       "3  9.1  NaN    3.0   3.0   3.0  273586.0  MjczNTg2LjA=  \n",
       "4  NaN  NaN    1.0   1.0   1.0  278549.0  Mjc4NTQ5LjA=  \n",
       "\n",
       "[5 rows x 46 columns]"
      ]
     },
     "execution_count": 124,
     "metadata": {},
     "output_type": "execute_result"
    }
   ],
   "source": [
    "dataset.columns = dataset.columns.str.replace(' ', '_')\n",
    "dataset.head()"
   ]
  },
  {
   "cell_type": "markdown",
   "metadata": {},
   "source": [
    "Reemplazamos también los acentos:"
   ]
  },
  {
   "cell_type": "code",
   "execution_count": 125,
   "metadata": {},
   "outputs": [
    {
     "data": {
      "text/plain": [
       "Index(['Equipo', 'Componente', 'Id', 'Resultado', 'Horas_Funcionamiento',\n",
       "       'Horas_del_Aceite', 'Fecha_de_Analisis', 'B', 'Nit', 'Oxi', 'Sul', 'St',\n",
       "       'V', 'Al', 'Cr', 'Cu', 'Fe', 'Pb', 'Mo', 'Ni', 'Sn', 'Si', 'K', 'Na',\n",
       "       'W', 'F', 'A', 'ISO', 'PQI', 'Ba', 'Ca', 'Mg', 'Mn', 'P', 'Zn', 'Ag',\n",
       "       'Ti', 'V40', 'V100', 'TBN', 'TAN', 'ISO14', 'ISO4', 'ISO6', 'HId',\n",
       "       'EId'],\n",
       "      dtype='object')"
      ]
     },
     "execution_count": 125,
     "metadata": {},
     "output_type": "execute_result"
    }
   ],
   "source": [
    "dataset = dataset.rename(columns={'Fecha_de_Análisis': 'Fecha_de_Analisis'})\n",
    "dataset.columns"
   ]
  },
  {
   "cell_type": "markdown",
   "metadata": {},
   "source": [
    "7. Vamos a revisar la cantidad de datos faltantes en las features Fe y Na"
   ]
  },
  {
   "cell_type": "code",
   "execution_count": 126,
   "metadata": {},
   "outputs": [
    {
     "data": {
      "text/plain": [
       "(740,)"
      ]
     },
     "execution_count": 126,
     "metadata": {},
     "output_type": "execute_result"
    }
   ],
   "source": [
    "# Observamos 740 datos faltantes para el hierro\n",
    "nan_fe = dataset[dataset['Fe'].isnull()]['Fe']\n",
    "nan_fe.shape"
   ]
  },
  {
   "cell_type": "code",
   "execution_count": 127,
   "metadata": {},
   "outputs": [
    {
     "data": {
      "text/plain": [
       "0.9654738020809033"
      ]
     },
     "execution_count": 127,
     "metadata": {},
     "output_type": "execute_result"
    }
   ],
   "source": [
    "len(dataset.dropna(subset=[\"Fe\"]))/len(dataset)"
   ]
  },
  {
   "cell_type": "markdown",
   "metadata": {},
   "source": [
    "Como podemos ver el 96,55% de las filas tienen el feature Fe no nulo"
   ]
  },
  {
   "cell_type": "code",
   "execution_count": 128,
   "metadata": {},
   "outputs": [
    {
     "data": {
      "text/plain": [
       "(743,)"
      ]
     },
     "execution_count": 128,
     "metadata": {},
     "output_type": "execute_result"
    }
   ],
   "source": [
    "# Observamos 743 datos faltantes para el sodio\n",
    "nan_na = dataset[dataset['Na'].isnull()]['Na']\n",
    "nan_na.shape"
   ]
  },
  {
   "cell_type": "code",
   "execution_count": 129,
   "metadata": {},
   "outputs": [
    {
     "data": {
      "text/plain": [
       "0.9653338310082583"
      ]
     },
     "execution_count": 129,
     "metadata": {},
     "output_type": "execute_result"
    }
   ],
   "source": [
    "len(dataset.dropna(subset=[\"Na\"]))/len(dataset)"
   ]
  },
  {
   "cell_type": "markdown",
   "metadata": {},
   "source": [
    "Y el 96,53% de las filas tienen el feature Na no nulo"
   ]
  },
  {
   "cell_type": "markdown",
   "metadata": {},
   "source": [
    "Completamos los datos faltantes con la media:"
   ]
  },
  {
   "cell_type": "code",
   "execution_count": 130,
   "metadata": {},
   "outputs": [],
   "source": [
    "dataset['Fe'].fillna((dataset['Fe'].mean()), inplace=True)"
   ]
  },
  {
   "cell_type": "code",
   "execution_count": 131,
   "metadata": {},
   "outputs": [
    {
     "data": {
      "text/plain": [
       "(0,)"
      ]
     },
     "execution_count": 131,
     "metadata": {},
     "output_type": "execute_result"
    }
   ],
   "source": [
    "# Observamos que ya no hay datos faltantes para el hierro\n",
    "nan_fe = dataset[dataset['Fe'].isnull()]['Fe']\n",
    "nan_fe.shape"
   ]
  },
  {
   "cell_type": "code",
   "execution_count": 132,
   "metadata": {},
   "outputs": [],
   "source": [
    "dataset['Na'].fillna((dataset['Na'].mean()), inplace=True)"
   ]
  },
  {
   "cell_type": "code",
   "execution_count": 133,
   "metadata": {},
   "outputs": [
    {
     "data": {
      "text/plain": [
       "(0,)"
      ]
     },
     "execution_count": 133,
     "metadata": {},
     "output_type": "execute_result"
    }
   ],
   "source": [
    "# Observamos que ya no hay datos faltantes para el sodio\n",
    "nan_na = dataset[dataset['Na'].isnull()]['Na']\n",
    "nan_na.shape"
   ]
  }
 ],
 "metadata": {
  "kernelspec": {
   "display_name": "Python 3",
   "language": "python",
   "name": "python3"
  },
  "language_info": {
   "codemirror_mode": {
    "name": "ipython",
    "version": 3
   },
   "file_extension": ".py",
   "mimetype": "text/x-python",
   "name": "python",
   "nbconvert_exporter": "python",
   "pygments_lexer": "ipython3",
   "version": "3.6.8"
  }
 },
 "nbformat": 4,
 "nbformat_minor": 2
}
